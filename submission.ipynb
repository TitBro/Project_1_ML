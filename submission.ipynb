{
 "cells": [
  {
   "cell_type": "markdown",
   "id": "81c71c7f-5bd4-496f-b5b5-1c207c08c2e3",
   "metadata": {},
   "source": [
    "## Submission code"
   ]
  },
  {
   "cell_type": "markdown",
   "id": "3f299a15-e5d3-4ca2-98e4-046a10015f6f",
   "metadata": {},
   "source": [
    "This notebook is used to compute the predictions on the test.csv file, in order to submit it\n",
    "to aicrowd and test our accuracy"
   ]
  },
  {
   "cell_type": "code",
   "execution_count": 2,
   "id": "9ed9a298-481b-4baf-a823-8a1543092c20",
   "metadata": {},
   "outputs": [],
   "source": [
    "# Useful starting lines\n",
    "%matplotlib inline\n",
    "import numpy as np\n",
    "import matplotlib.pyplot as plt\n",
    "\n",
    "%load_ext autoreload\n",
    "%autoreload 2"
   ]
  },
  {
   "cell_type": "code",
   "execution_count": 3,
   "id": "668035f5-0961-489d-8611-d3dfec0bf36d",
   "metadata": {},
   "outputs": [],
   "source": [
    "from py_files.data_loader import *\n",
    "from implementations import *"
   ]
  },
  {
   "cell_type": "code",
   "execution_count": 3,
   "id": "7b6dcea2-114f-43d6-9b90-238177f053a6",
   "metadata": {},
   "outputs": [],
   "source": [
    "%store -r\n",
    "# it fetches the variable we have stored previously"
   ]
  },
  {
   "cell_type": "code",
   "execution_count": 4,
   "id": "1977af1e-6c89-46ee-a9c9-bb91967fa614",
   "metadata": {},
   "outputs": [],
   "source": [
    "ids, predictions, data = load_data(\"test.csv\")\n",
    "# predictions is obviously empty, it's up to us to compute them"
   ]
  },
  {
   "cell_type": "code",
   "execution_count": 5,
   "id": "e3f46e96-f7ff-4008-bf75-6c03c0695022",
   "metadata": {},
   "outputs": [],
   "source": [
    "from py_files.data_processing import *"
   ]
  },
  {
   "cell_type": "code",
   "execution_count": 6,
   "id": "311e5507-6a26-46eb-9fd8-b12ba88681d5",
   "metadata": {},
   "outputs": [],
   "source": [
    "processed_data = data"
   ]
  },
  {
   "cell_type": "code",
   "execution_count": 7,
   "id": "8471b1a2-f087-4548-b362-924810cc7dce",
   "metadata": {},
   "outputs": [],
   "source": [
    "processed_data = one_hot_encoding(processed_data)\n",
    "processed_data = handle_outliers(processed_data)\n",
    "processed_data = handle_undefined_values(processed_data)\n",
    "processed_data = polynomial_2(processed_data)\n",
    "processed_data = standardize(processed_data)\n",
    "processed_data = ones_concatenate(processed_data)"
   ]
  },
  {
   "cell_type": "markdown",
   "id": "2d679be5-952e-4a69-98e0-accb2b757fa6",
   "metadata": {},
   "source": [
    "## 1. Predictions with least squares gradient descent"
   ]
  },
  {
   "cell_type": "code",
   "execution_count": 8,
   "id": "2ced4b3d-b774-4281-8f2a-ee9579fa33be",
   "metadata": {},
   "outputs": [
    {
     "name": "stdout",
     "output_type": "stream",
     "text": [
      "The percentage of Boson events predicted is 22.981 %\n"
     ]
    }
   ],
   "source": [
    "pred_1 = np.dot(processed_data, w_opt_gd)\n",
    "pred_1 = np.where(pred_1 < 1 / 2, -1, 1)\n",
    "num = np.count_nonzero(pred_1 == 1)\n",
    "print(\"The percentage of Boson events predicted is %.3f %%\" % (num / len(pred_1) * 100))\n",
    "\n",
    "# ok, we are not predicting boson events"
   ]
  },
  {
   "cell_type": "markdown",
   "id": "291aea04-f1ee-4805-9ddb-dd1cbddb5237",
   "metadata": {},
   "source": [
    "## 2. Predictions with least squares: stochastic gradient descent"
   ]
  },
  {
   "cell_type": "code",
   "execution_count": 9,
   "id": "cb04b768-e734-48be-b258-9087e3922913",
   "metadata": {},
   "outputs": [
    {
     "name": "stdout",
     "output_type": "stream",
     "text": [
      "The percentage of Boson events predicted is 8.945 %\n"
     ]
    }
   ],
   "source": [
    "pred_2 = np.dot(processed_data, w_opt_sgd)\n",
    "pred_2 = np.where(pred_2 < 1 / 2, -1, 1)\n",
    "num = np.count_nonzero(pred_2 == 1)\n",
    "print(\"The percentage of Boson events predicted is %.3f %%\" % (num / len(pred_2) * 100))"
   ]
  },
  {
   "cell_type": "markdown",
   "id": "fb03e377-16cf-4739-9cdb-338d75affb9f",
   "metadata": {},
   "source": [
    "## 3. Predictions with least squares: normal equations"
   ]
  },
  {
   "cell_type": "code",
   "execution_count": 10,
   "id": "07431a4c-7d92-46dd-85ba-37c5c5f96191",
   "metadata": {},
   "outputs": [
    {
     "name": "stdout",
     "output_type": "stream",
     "text": [
      "The percentage of Boson events predicted is 29.654 %\n"
     ]
    }
   ],
   "source": [
    "pred_3 = np.dot(processed_data, w_opt_ne)\n",
    "pred_3 = np.where(pred_3 < 1 / 2, -1, 1)\n",
    "num = np.count_nonzero(pred_3 == 1)\n",
    "print(\"The percentage of Boson events predicted is %.3f %%\" % (num / len(pred_3) * 100))"
   ]
  },
  {
   "cell_type": "markdown",
   "id": "d995a580-140c-4fe3-910d-e724d83b7f99",
   "metadata": {},
   "source": [
    "## 4. Predictions with ridge regression: normal equations"
   ]
  },
  {
   "cell_type": "code",
   "execution_count": 11,
   "id": "0e189194-9c04-446d-aca6-0a13235867c0",
   "metadata": {},
   "outputs": [
    {
     "name": "stdout",
     "output_type": "stream",
     "text": [
      "The percentage of Boson events predicted is 29.654 %\n"
     ]
    }
   ],
   "source": [
    "pred_4 = np.dot(processed_data, w_opt_ridge)\n",
    "pred_4 = np.where(pred_4 < 1 / 2, -1, 1)\n",
    "num = np.count_nonzero(pred_4 == 1)\n",
    "print(\"The percentage of Boson events predicted is %.3f %%\" % (num / len(pred_4) * 100))"
   ]
  },
  {
   "cell_type": "markdown",
   "id": "400b991e-0c32-4ea5-900c-9be739ae2866",
   "metadata": {},
   "source": [
    "## 5. Predictions with logistic regression"
   ]
  },
  {
   "cell_type": "code",
   "execution_count": 12,
   "id": "5c015530-d477-4769-9a62-f8d4a17eb25e",
   "metadata": {},
   "outputs": [
    {
     "name": "stdout",
     "output_type": "stream",
     "text": [
      "The percentage of Boson events predicted is 27.417 %\n"
     ]
    }
   ],
   "source": [
    "pred_5 = np.dot(processed_data, w_opt_lr)\n",
    "pred_5 = np.where(sigmoid(pred_5) < 1 / 2, -1, 1)\n",
    "num = np.count_nonzero(pred_5 == 1)\n",
    "print(\"The percentage of Boson events predicted is %.3f %%\" % (num / len(pred_5) * 100))"
   ]
  },
  {
   "cell_type": "markdown",
   "id": "5410ac28-4df2-4d07-b612-f298552a7908",
   "metadata": {},
   "source": [
    "## 6. Predictions with regularized logistic regression with gradient descent"
   ]
  },
  {
   "cell_type": "code",
   "execution_count": 13,
   "id": "37492c09-dfef-44bd-8bde-e27d214f2714",
   "metadata": {},
   "outputs": [
    {
     "name": "stdout",
     "output_type": "stream",
     "text": [
      "The percentage of Boson events predicted is 23.747 %\n"
     ]
    }
   ],
   "source": [
    "pred_6 = np.dot(processed_data, w_opt_rlr)\n",
    "pred_6 = np.where(sigmoid(pred_6) < 1 / 2, -1, 1)\n",
    "num = np.count_nonzero(pred_6 == 1)\n",
    "print(\"The percentage of Boson events predicted is %.3f %%\" % (num / len(pred_6) * 100))"
   ]
  },
  {
   "cell_type": "markdown",
   "id": "ec43c64e-9cbd-4411-ae12-2de1c0d52b54",
   "metadata": {},
   "source": [
    "## Creation of submission file"
   ]
  },
  {
   "cell_type": "code",
   "execution_count": 14,
   "id": "f8736162-6466-466f-abe8-85534f80db29",
   "metadata": {},
   "outputs": [],
   "source": [
    "from py_files.helpers import *"
   ]
  },
  {
   "cell_type": "code",
   "execution_count": 15,
   "id": "d9e9d85f-acc6-4002-b049-9946c89bb13e",
   "metadata": {},
   "outputs": [],
   "source": [
    "create_csv_submission(ids, pred_4, \"submission.csv\")"
   ]
  }
 ],
 "metadata": {
  "kernelspec": {
   "display_name": "Python 3",
   "language": "python",
   "name": "python3"
  },
  "language_info": {
   "codemirror_mode": {
    "name": "ipython",
    "version": 3
   },
   "file_extension": ".py",
   "mimetype": "text/x-python",
   "name": "python",
   "nbconvert_exporter": "python",
   "pygments_lexer": "ipython3",
   "version": "3.8.2"
  }
 },
 "nbformat": 4,
 "nbformat_minor": 5
}
