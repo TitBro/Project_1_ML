{
 "cells": [
  {
   "cell_type": "code",
   "execution_count": 1,
   "id": "262d49dd",
   "metadata": {},
   "outputs": [],
   "source": [
    "import csv\n",
    "##########333"
   ]
  },
  {
   "cell_type": "code",
   "execution_count": null,
   "id": "6b4d442f-7ead-4f46-abb1-af85c62637f2",
   "metadata": {},
   "outputs": [],
   "source": []
  }
 ],
 "metadata": {
  "kernelspec": {
   "display_name": "Python 3",
   "language": "python",
   "name": "python3"
  },
  "language_info": {
   "codemirror_mode": {
    "name": "ipython",
    "version": 3
   },
   "file_extension": ".py",
   "mimetype": "text/x-python",
   "name": "python",
   "nbconvert_exporter": "python",
   "pygments_lexer": "ipython3",
   "version": "3.8.2"
  }
 },
 "nbformat": 4,
 "nbformat_minor": 5
}
