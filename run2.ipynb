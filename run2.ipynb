{
 "cells": [
  {
   "cell_type": "markdown",
   "id": "81c71c7f-5bd4-496f-b5b5-1c207c08c2e3",
   "metadata": {},
   "source": [
    "## Submission code"
   ]
  },
  {
   "cell_type": "markdown",
   "id": "3f299a15-e5d3-4ca2-98e4-046a10015f6f",
   "metadata": {},
   "source": [
    "This notebook is used to compute the predictions on the test.csv file, in order to submit it\n",
    "to aicrowd and test our accuracy"
   ]
  },
  {
   "cell_type": "code",
   "execution_count": 2,
   "id": "9ed9a298-481b-4baf-a823-8a1543092c20",
   "metadata": {},
   "outputs": [
    {
     "name": "stdout",
     "output_type": "stream",
     "text": [
      "The autoreload extension is already loaded. To reload it, use:\n",
      "  %reload_ext autoreload\n"
     ]
    }
   ],
   "source": [
    "# Useful starting lines\n",
    "%matplotlib inline\n",
    "import numpy as np\n",
    "import matplotlib.pyplot as plt\n",
    "\n",
    "%load_ext autoreload\n",
    "%autoreload 2"
   ]
  },
  {
   "cell_type": "code",
   "execution_count": 3,
   "id": "668035f5-0961-489d-8611-d3dfec0bf36d",
   "metadata": {},
   "outputs": [],
   "source": [
    "from data_loader import *\n",
    "from implementations import *\n",
    "import test_utils"
   ]
  },
  {
   "cell_type": "code",
   "execution_count": 5,
   "id": "1977af1e-6c89-46ee-a9c9-bb91967fa614",
   "metadata": {},
   "outputs": [],
   "source": [
    "ids, predictions, data = load_data(\"test.csv\")\n",
    "# predictions is obviously empty, it s up to us to compute them\n",
    "\n",
    "\n"
   ]
  },
  {
   "cell_type": "code",
   "execution_count": 14,
   "id": "e3f46e96-f7ff-4008-bf75-6c03c0695022",
   "metadata": {},
   "outputs": [],
   "source": [
    "from data_processing import *\n"
   ]
  },
  {
   "cell_type": "code",
   "execution_count": 15,
   "id": "311e5507-6a26-46eb-9fd8-b12ba88681d5",
   "metadata": {},
   "outputs": [],
   "source": [
    "processed_data = data"
   ]
  },
  {
   "cell_type": "code",
   "execution_count": 16,
   "id": "8471b1a2-f087-4548-b362-924810cc7dce",
   "metadata": {},
   "outputs": [],
   "source": [
    "processed_data = one_hot_encoding(processed_data)\n",
    "processed_data = handle_outliers(processed_data)\n",
    "processed_data = handle_undefined_values(processed_data)\n",
    "processed_data_2 = processed_data\n",
    "processed_data_2 = polynomial_2(processed_data_2)\n",
    "processed_data = standardize(processed_data)\n",
    "processed_data_2 = standardize(processed_data_2)\n",
    "processed_data = ones_concatenate(processed_data)\n",
    "processed_data_2 = ones_concatenate(processed_data_2)"
   ]
  },
  {
   "cell_type": "code",
   "execution_count": null,
   "id": "d9e9d85f-acc6-4002-b049-9946c89bb13e",
   "metadata": {},
   "outputs": [],
   "source": [
    "create_csv_submission(ids, y_pred, \"submission.csv\")"
   ]
  },
  {
   "cell_type": "code",
   "execution_count": null,
   "id": "4067ca19-799b-4ddb-9c73-132713b0d95a",
   "metadata": {},
   "outputs": [],
   "source": []
  }
 ],
 "metadata": {
  "kernelspec": {
   "display_name": "Python 3 (ipykernel)",
   "language": "python",
   "name": "python3"
  },
  "language_info": {
   "codemirror_mode": {
    "name": "ipython",
    "version": 3
   },
   "file_extension": ".py",
   "mimetype": "text/x-python",
   "name": "python",
   "nbconvert_exporter": "python",
   "pygments_lexer": "ipython3",
   "version": "3.9.12"
  }
 },
 "nbformat": 4,
 "nbformat_minor": 5
}
